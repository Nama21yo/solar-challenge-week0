{
 "cells": [
  {
   "cell_type": "markdown",
   "id": "f6256e1a",
   "metadata": {},
   "source": [
    "# Exploratory Data Analysis (EDA) - Benin (Malanville) Solar Data\n",
    "#\n",
    "# **Objective:** Profile, clean, and explore Benin's (Malanville) solar dataset to understand its characteristics, identify trends, and extract insights for potential solar investments.\n",
    "#\n",
    "# **Business Objective Context:** MoonLight Energy Solutions aims to enhance operational efficiency and sustainability through targeted solar investments. This EDA will help identify high-potential regions by analyzing environmental measurement data."
   ]
  },
  {
   "cell_type": "markdown",
   "id": "4e543107",
   "metadata": {},
   "source": [
    "## 1. Setup and Data Loading"
   ]
  },
  {
   "cell_type": "code",
   "execution_count": 3,
   "id": "c447a873",
   "metadata": {},
   "outputs": [],
   "source": [
    "#  1. Setup and Data Loading\n",
    "import pandas as pd\n",
    "import numpy as np\n",
    "import matplotlib.pyplot as plt\n",
    "import seaborn as sns\n",
    "from scipy.stats import zscore\n",
    "import os # For creating directory if it doesn't exist\n",
    "\n",
    "# Plotting style\n",
    "plt.style.use('seaborn-v0_8-whitegrid') # A modern seaborn style\n",
    "sns.set_palette(\"viridis\") # A nice color palette\n"
   ]
  },
  {
   "cell_type": "code",
   "execution_count": 4,
   "id": "7177f981",
   "metadata": {},
   "outputs": [],
   "source": [
    "DATA_DIR = '../data/'\n",
    "FILE_NAME = 'benin-malanville.csv' \n",
    "data_path = os.path.join(DATA_DIR, FILE_NAME)\n",
    "\n",
    "CLEANED_DATA_DIR = '../data/' \n",
    "if not os.path.exists(CLEANED_DATA_DIR):\n",
    "    os.makedirs(CLEANED_DATA_DIR)\n",
    "cleaned_file_path = os.path.join(CLEANED_DATA_DIR, 'benin-malanville_clean.csv') # <<< Adjusted cleaned file name"
   ]
  },
  {
   "cell_type": "code",
   "execution_count": 5,
   "id": "83db4bda",
   "metadata": {},
   "outputs": [
    {
     "name": "stdout",
     "output_type": "stream",
     "text": [
      "Successfully loaded ../data/benin-malanville.csv\n"
     ]
    }
   ],
   "source": [
    "try:\n",
    "    df_benin = pd.read_csv(data_path)\n",
    "    print(f\"Successfully loaded {data_path}\")\n",
    "except FileNotFoundError:\n",
    "    print(f\"Error: {data_path} not found. Ensure the file is in the '{DATA_DIR}' directory.\")\n",
    "    df_benin = None # Set to None if file not found\n",
    "except Exception as e:\n",
    "    print(f\"An error occurred while loading the file: {e}\")\n",
    "    df_benin = None"
   ]
  },
  {
   "cell_type": "markdown",
   "id": "6797983d",
   "metadata": {},
   "source": [
    " ## 2. Initial Data Inspection"
   ]
  },
  {
   "cell_type": "code",
   "execution_count": null,
   "id": "5f43b2d7",
   "metadata": {},
   "outputs": [],
   "source": []
  }
 ],
 "metadata": {
  "kernelspec": {
   "display_name": ".venv",
   "language": "python",
   "name": "python3"
  },
  "language_info": {
   "codemirror_mode": {
    "name": "ipython",
    "version": 3
   },
   "file_extension": ".py",
   "mimetype": "text/x-python",
   "name": "python",
   "nbconvert_exporter": "python",
   "pygments_lexer": "ipython3",
   "version": "3.12.3"
  }
 },
 "nbformat": 4,
 "nbformat_minor": 5
}
